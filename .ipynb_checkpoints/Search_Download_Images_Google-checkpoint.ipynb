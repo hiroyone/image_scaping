{
 "cells": [
  {
   "cell_type": "code",
   "execution_count": null,
   "metadata": {},
   "outputs": [],
   "source": [
    "# Download the google image search api\n",
    "# !conda install --yes google\n",
    "# !conda install --yes google_images_download"
   ]
  },
  {
   "cell_type": "code",
   "execution_count": 13,
   "metadata": {},
   "outputs": [
    {
     "name": "stdout",
     "output_type": "stream",
     "text": [
      "\n",
      "Item no.: 1 --> Item name = \\u5e55\\u306e\\u5185\\u5f01\\u5f53 \\u753b\\u50cf\n",
      "Evaluating...\n",
      "Starting Download...\n",
      "\n",
      "\n",
      "Unfortunately all 100 could not be downloaded because some images were not downloadable. 0 is all we got for this search filter!\n",
      "\n",
      "Errors: 0\n",
      "\n",
      "({'幕の内弁当 画像': []}, 0)\n"
     ]
    }
   ],
   "source": [
    "from google_images_download import google_images_download   #importing the library\n",
    "from selenium import webdriver\n",
    "import os\n",
    "\n",
    "home_dir=os.getenv(\"HOME\")\n",
    "driver = webdriver.Chrome(home_dir+'/Downloads/chromedriver')\n",
    "response = google_images_download.googleimagesdownload()   #class instantiation\n",
    "\n",
    "keyword = \"幕の内弁当 画像\"\n",
    "\n",
    "arguments = {\"keywords\":keyword,\"limit\":100,\"print_urls\":True} \n",
    "paths = response.download(arguments)   #passing the arguments to the function\n",
    "print(paths)   #printing absolute paths of the downloaded images"
   ]
  }
 ],
 "metadata": {
  "jupytext": {
   "text_representation": {
    "extension": ".py",
    "format_name": "light",
    "format_version": "1.3",
    "jupytext_version": "0.8.6"
   }
  },
  "kernelspec": {
   "display_name": "Python 3",
   "language": "python",
   "name": "python3"
  },
  "language_info": {
   "codemirror_mode": {
    "name": "ipython",
    "version": 3
   },
   "file_extension": ".py",
   "mimetype": "text/x-python",
   "name": "python",
   "nbconvert_exporter": "python",
   "pygments_lexer": "ipython3",
   "version": "3.7.2"
  }
 },
 "nbformat": 4,
 "nbformat_minor": 2
}
